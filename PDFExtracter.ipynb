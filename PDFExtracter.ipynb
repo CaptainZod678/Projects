{
 "cells": [
  {
   "cell_type": "code",
   "execution_count": 5,
   "metadata": {},
   "outputs": [],
   "source": [
    "from PyPDF2 import PdfFileWriter, PdfFileReader\n",
    "import io\n",
    "import pandas as pd\n",
    "from reportlab.pdfgen import canvas\n",
    "from reportlab.lib.pagesizes import letter\n",
    "import csv"
   ]
  },
  {
   "cell_type": "code",
   "execution_count": 26,
   "metadata": {},
   "outputs": [],
   "source": [
    "data = pd.read_csv(\"orders.csv\")"
   ]
  },
  {
   "cell_type": "code",
   "execution_count": 2,
   "metadata": {},
   "outputs": [],
   "source": [
    "packet = io.BytesIO()"
   ]
  },
  {
   "cell_type": "code",
   "execution_count": 31,
   "metadata": {
    "scrolled": true
   },
   "outputs": [
    {
     "name": "stdout",
     "output_type": "stream",
     "text": [
      "{'#1950', '#1947', '#1945', '#1940', '#1946', '#1941', '#1943', '#1949', '#1942', '#1944', '#1948', '#1938', '#1939', '#1937'}\n"
     ]
    }
   ],
   "source": [
    "uniName = set()\n",
    "for i in data.Name:\n",
    "    uniName.add(i)\n",
    "print(uniName)    "
   ]
  },
  {
   "cell_type": "code",
   "execution_count": 18,
   "metadata": {},
   "outputs": [
    {
     "ename": "SyntaxError",
     "evalue": "invalid syntax (<ipython-input-18-2e2dd8a2e071>, line 12)",
     "output_type": "error",
     "traceback": [
      "\u001b[1;36m  File \u001b[1;32m\"<ipython-input-18-2e2dd8a2e071>\"\u001b[1;36m, line \u001b[1;32m12\u001b[0m\n\u001b[1;33m    can.save()\u001b[0m\n\u001b[1;37m      ^\u001b[0m\n\u001b[1;31mSyntaxError\u001b[0m\u001b[1;31m:\u001b[0m invalid syntax\n"
     ]
    }
   ],
   "source": [
    "def write_pdf(data, filename):\n",
    "    name = data['Name']\n",
    "    order_no = data['Email']\n",
    "    can = canvas.Canvas(packet, pagesize=letter)\n",
    "    can.setFont(\"Helvetica\", 12)\n",
    "    if OrderID is not None:\n",
    "        can.drawString(80, 655, '#' + str(OrderID)[1:-1])\n",
    "\n",
    "    can.setFont(\"Helvetica\", 16)\n",
    "    if Name is not None:\n",
    "        can.drawString(315, 630, str(Name)[2:-2]\n",
    "    can.save()"
   ]
  },
  {
   "cell_type": "code",
   "execution_count": 14,
   "metadata": {},
   "outputs": [],
   "source": [
    "row_counter = 0\n",
    "with open('orders.csv', 'r') as f:\n",
    "    reader = csv.DictReader(f)\n",
    "    for row in reader:\n",
    "        write_pdf(row, 'Output' + str(row_counter) + '.pdf')\n",
    "        row_counter += 1"
   ]
  },
  {
   "cell_type": "code",
   "execution_count": 32,
   "metadata": {},
   "outputs": [
    {
     "name": "stdout",
     "output_type": "stream",
     "text": [
      "#1937 paid 1800.0\n",
      "#1938 pending 3400.0\n",
      "#1939 pending 3850.0\n",
      "#1940 paid 1700.0\n",
      "#1941 paid 2150.0\n",
      "#1942 paid 1300.0\n",
      "#1943 paid 1300.0\n",
      "#1944 pending 850.0\n",
      "#1945 pending 850.0\n",
      "#1946 paid 850.0\n",
      "#1947 paid 2500.0\n",
      "#1948 pending 8500.0\n",
      "#1949 paid 850.0\n",
      "#1950 pending 1900.0\n"
     ]
    }
   ],
   "source": [
    "for i in range(len(data)):\n",
    "    if data.loc[i].Name in uniName:\n",
    "        print(data.loc[i].Name,data.loc[i].FinStatus,data.loc[i].Subtotal)\n",
    "        uniName.discard(data.loc[i].Name)"
   ]
  },
  {
   "cell_type": "code",
   "execution_count": null,
   "metadata": {},
   "outputs": [],
   "source": []
  }
 ],
 "metadata": {
  "kernelspec": {
   "display_name": "Python 3",
   "language": "python",
   "name": "python3"
  },
  "language_info": {
   "codemirror_mode": {
    "name": "ipython",
    "version": 3
   },
   "file_extension": ".py",
   "mimetype": "text/x-python",
   "name": "python",
   "nbconvert_exporter": "python",
   "pygments_lexer": "ipython3",
   "version": "3.7.8"
  }
 },
 "nbformat": 4,
 "nbformat_minor": 4
}
