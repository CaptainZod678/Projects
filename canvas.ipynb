{
 "cells": [
  {
   "cell_type": "code",
   "execution_count": 32,
   "metadata": {},
   "outputs": [],
   "source": [
    "from PyPDF2 import PdfFileWriter, PdfFileReader\n",
    "import io\n",
    "import pandas as pd\n",
    "from reportlab.pdfgen import canvas\n",
    "from reportlab.lib.pagesizes import letter\n",
    "from reportlab.lib.units import inch\n",
    "import csv"
   ]
  },
  {
   "cell_type": "code",
   "execution_count": 37,
   "metadata": {},
   "outputs": [],
   "source": [
    "data = pd.read_csv(\"pracOrder.csv\")\n",
    "uniName = set()\n",
    "for i in data.Name:\n",
    "    uniName.add(i)"
   ]
  },
  {
   "cell_type": "code",
   "execution_count": 38,
   "metadata": {},
   "outputs": [
    {
     "name": "stdout",
     "output_type": "stream",
     "text": [
      "#1937\n",
      "#1937.pdf\n",
      "#1938\n",
      "#1938.pdf\n",
      "#1939\n",
      "#1939.pdf\n"
     ]
    }
   ],
   "source": [
    "with open('pracOrder.csv', newline='') as f:\n",
    "    reader = csv.reader(f)\n",
    "    for row in reader:\n",
    "        if row[0] in uniName:\n",
    "            print(row[0])\n",
    "            name = row[0]+\".pdf\"\n",
    "            print(name)\n",
    "            c = canvas.Canvas(name)\n",
    "            c.drawString(500,800,\"Order: \"+row[0])\n",
    "            c.drawString(500,780,row[5][:11])\n",
    "            if row[2].lower() ==\"paid\":\n",
    "                c.drawString(250,780,\"Status: PAID\")\n",
    "            else:\n",
    "                c.drawString(250,780,\"Status: COD\")\n",
    "                c.drawString(250,760,\"Subtotal: \"+row[8])\n",
    "            c.drawString(30,750,\"To,\")\n",
    "            c.drawString(30,720,row[34])\n",
    "            c.drawString(30,700,row[35])\n",
    "            c.drawString(30,680,row[39])\n",
    "            c.drawString(30,660,row[40])\n",
    "            c.drawString(30,640,row[73])\n",
    "            if row[42]==\"IN\":\n",
    "                c.drawString(30,620,\"India\")\n",
    "            c.drawString(30,600,\"Mob: \"+row[43])\n",
    "            c.drawString(30,550,\"From, Namrata Kedia Design\")\n",
    "            c.drawString(30,530,\"Flat #501,Vishnu Apartments\")\n",
    "            c.drawString(30,510,\"Sardar Patel Marg\")\n",
    "            c.drawString(30,490,\"C-Scheme\")\n",
    "            c.drawString(30,470,\"Jaipur - 302001\")\n",
    "            c.drawString(30,450,\"Rajasthan\")\n",
    "            c.drawString(30,420,\"--------------------------------------------------------------------------------------------------------------------------------\")\n",
    "            c.drawString(30,400,\"Packing Slip\")\n",
    "            c.drawString(30,370,\"--------------------------------------------------------------------------------------------------------------------------------\")\n",
    "            c.drawString(30,350,\"ITEMS\")\n",
    "            c.drawString(480,350,\"QTY\")\n",
    "            le = len(row[17])\n",
    "            c.drawString(30,330,row[17][:50])\n",
    "            c.drawString(30,310,row[17][50:100])\n",
    "            c.drawString(30,290,row[17][100:])\n",
    "            c.drawString(480,310,row[16])\n",
    "            c.drawString(30,270,\"--------------------------------------------------------------------------------------------------------------------------------\")\n",
    "            c.drawString(200,250,\"Thank you for shopping with us!\")\n",
    "            c.showPage()\n",
    "            c.save()\n",
    "            uniName.discard(row[0])"
   ]
  },
  {
   "cell_type": "code",
   "execution_count": null,
   "metadata": {},
   "outputs": [],
   "source": []
  }
 ],
 "metadata": {
  "kernelspec": {
   "display_name": "Python 3",
   "language": "python",
   "name": "python3"
  },
  "language_info": {
   "codemirror_mode": {
    "name": "ipython",
    "version": 3
   },
   "file_extension": ".py",
   "mimetype": "text/x-python",
   "name": "python",
   "nbconvert_exporter": "python",
   "pygments_lexer": "ipython3",
   "version": "3.7.8"
  }
 },
 "nbformat": 4,
 "nbformat_minor": 4
}
